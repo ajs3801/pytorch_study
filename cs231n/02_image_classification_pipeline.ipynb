{
 "cells": [
  {
   "cell_type": "markdown",
   "metadata": {},
   "source": [
    "# Image Classification pipeline\n",
    "\n",
    "### [key word]\n",
    "1. K-Nearest Neighbors\n",
    "2. CIFAR 10\n",
    "3. Distance Metric\n",
    "4. hyperparameters\n",
    "5. train, validation, test\n",
    "6. Linear Classification\n",
    "7. Weights\n",
    "8. bias"
   ]
  },
  {
   "cell_type": "markdown",
   "metadata": {},
   "source": [
    "### Basic python and numpy\n",
    "\n",
    "https://cs231n.github.io/python-numpy-tutorial/"
   ]
  },
  {
   "cell_type": "code",
   "execution_count": null,
   "metadata": {},
   "outputs": [],
   "source": [
    "# K Nearest Neighbor Classifier\n",
    "\n",
    "import numpy as np\n",
    "\n",
    "class NearestNeighbor:\n",
    "    def __init__(self):\n",
    "        pass\n",
    "\n",
    "    def train(self, X, y):\n",
    "        # X is NxD where each row is an example, Y is 1-dimenstion of size N\n",
    "        # the nearest neighbor classifier simply remembers all the trainig data\n",
    "        self.Xtr = X\n",
    "        self.ytr = y\n",
    "\n",
    "    def predict(self, X):\n",
    "        # X is NxD where each row is an example we wish to predict label for\n",
    "        num_test = X.shape[0]\n",
    "\n",
    "        # let's make sure that the output type matches the input type\n",
    "        Ypred = np.zeros(num_test, dtype=self.ytr.dtype)\n",
    "\n",
    "        # loop over all test rows\n",
    "        for i in range(num_test):\n",
    "            # find the nearest training image to the i'th test image\n",
    "            # using the L1 distance (sum of absolute value differences)\n",
    "            distances = np.sum(np.abs(self.Xtr - X[i,:]), axis=1)\n",
    "            min_index = np.argmin(distances)                                 # get the index with smallest distance\n",
    "            Ypred[i] = self.ytr[min_index]                                   # predict the label of the nearest example\n",
    "        \n",
    "\n"
   ]
  },
  {
   "cell_type": "markdown",
   "metadata": {},
   "source": [
    "### .shape\n",
    "\n",
    "``` python\n",
    "num_test = X.shape[0]\n",
    "```\n",
    "\n",
    "- numpy에서 배열의 형태에 대한 정보를 알아내는 shape라는 함수 존재\n"
   ]
  },
  {
   "cell_type": "markdown",
   "metadata": {},
   "source": [
    "```python\n",
    "def train(self, X, y):\n",
    "        # X is NxD where each row is an example, Y is 1-dimenstion of size N\n",
    "        # the nearest neighbor classifier simply remembers all the trainig data\n",
    "        self.Xtr = X\n",
    "        self.ytr = y\n",
    "```\n",
    "\n",
    "-> Memorize training data"
   ]
  },
  {
   "cell_type": "markdown",
   "metadata": {},
   "source": [
    "```python\n",
    "def predict(self, X):\n",
    "        # X is NxD where each row is an example we wish to predict label for\n",
    "        num_test = X.shape[0]\n",
    "\n",
    "        # let's make sure that the output type matches the input type\n",
    "        Ypred = np.zeros(num_test, dtype=self.ytr.dtype)\n",
    "\n",
    "        # loop over all test rows\n",
    "        for i in range(num_test):\n",
    "            # find the nearest training image to the i'th test image\n",
    "            # using the L1 distance (sum of absolute value differences)\n",
    "            distances = np.sum(np.abs(self.Xtr - X[i,:]), axis=1)\n",
    "            min_index = np.argmin(distances)                                 # get the index with smallest distance\n",
    "            Ypred[i] = self.ytr[min_index]                                   # predict the label of the nearest example\n",
    "```\n",
    "\n",
    "-> for each test image: <br/><br/>\n",
    "Find closet train image <br/><br/>\n",
    "Predict label of nearest image"
   ]
  },
  {
   "cell_type": "markdown",
   "metadata": {},
   "source": [
    "## K-Nearest Neighbors: Distance Metric\n",
    "\n",
    "#### L1(Manhattan) Distance\n",
    "\n",
    "#### L2(Euclidean) Distance\n",
    "\n"
   ]
  },
  {
   "cell_type": "markdown",
   "metadata": {},
   "source": [
    "## Hyperparameters\n",
    "\n",
    "#### Question1: what is the best value of k to use? <br/>\n",
    "#### Question2: what is the best distance to use?\n",
    "\n",
    "These are HYPERPARAMETERS: <br/> <br/>\n",
    "choices about the algorithm that we set rather than learn <br/><br/>\n",
    "\n",
    "#### How to set hyperparameters?\n",
    "Very problem dependent. <br>\n",
    "Must try them all out and see what works best"
   ]
  },
  {
   "cell_type": "markdown",
   "metadata": {},
   "source": [
    "# K Nearest Neighbors 관련 정리자료\n",
    "\n",
    "https://velog.io/@hyesoup/KNN-K-Nearest-Neighbor-%EA%B0%9C%EB%85%90"
   ]
  },
  {
   "cell_type": "markdown",
   "metadata": {},
   "source": [
    "## Linear Classifier"
   ]
  },
  {
   "cell_type": "markdown",
   "metadata": {},
   "source": []
  }
 ],
 "metadata": {
  "kernelspec": {
   "display_name": "pytorch",
   "language": "python",
   "name": "python3"
  },
  "language_info": {
   "name": "python",
   "version": "3.11.9"
  }
 },
 "nbformat": 4,
 "nbformat_minor": 2
}
