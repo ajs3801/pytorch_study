{
 "cells": [
  {
   "cell_type": "code",
   "execution_count": 1,
   "metadata": {},
   "outputs": [
    {
     "name": "stdout",
     "output_type": "stream",
     "text": [
      "tensor([0.])\n",
      "tensor([0., 0., 0.])\n",
      "tensor([[0., 0., 0.],\n",
      "        [0., 0., 0.]])\n",
      "tensor([[[0., 0., 0.],\n",
      "         [0., 0., 0.]],\n",
      "\n",
      "        [[0., 0., 0.],\n",
      "         [0., 0., 0.]]])\n"
     ]
    }
   ],
   "source": [
    "import torch\n",
    "\n",
    "# [ empty ]\n",
    "x1 = torch.empty(1)     # one scalar value\n",
    "x2 = torch.empty(3)     # three scalar value\n",
    "x3 = torch.empty(2,3)   # 2 dimension\n",
    "x4 = torch.empty(2,2,3) # 3 dimension\n",
    "\n",
    "# check value\n",
    "print(x1)\n",
    "print(x2)\n",
    "print(x3)\n",
    "print(x4)"
   ]
  },
  {
   "cell_type": "code",
   "execution_count": 2,
   "metadata": {},
   "outputs": [
    {
     "name": "stdout",
     "output_type": "stream",
     "text": [
      "tensor([[0.0653, 0.1408],\n",
      "        [0.0513, 0.7154]])\n",
      "tensor([[0., 0.],\n",
      "        [0., 0.]])\n"
     ]
    }
   ],
   "source": [
    "# [ rand ]\n",
    "x1 = torch.rand(2, 2)       # 2x2 random value matrix\n",
    "\n",
    "# [ zeros ]\n",
    "x2 = torch.zeros(2, 2)      # 2x2 zero value matrix\n",
    "\n",
    "# [ ones ]\n",
    "x3 = torch.ones(2, 2)       # 2x2 one value matrix\n",
    "\n",
    "# check value\n",
    "print(x1)\n",
    "print(x2)\n",
    "print(x3)"
   ]
  },
  {
   "cell_type": "code",
   "execution_count": 4,
   "metadata": {},
   "outputs": [
    {
     "name": "stdout",
     "output_type": "stream",
     "text": [
      "torch.int32\n",
      "torch.int32\n",
      "torch.Size([2, 2])\n"
     ]
    }
   ],
   "source": [
    "# type check and set type\n",
    "\n",
    "# [ type check ]\n",
    "print(x1.dtype)\n",
    "\n",
    "# [ set type ]\n",
    "x1 = torch.ones(2, 2, dtype=torch.int)\n",
    "print(x1.dtype)\n",
    "\n",
    "# get size\n",
    "print(x1.size())"
   ]
  },
  {
   "cell_type": "code",
   "execution_count": 5,
   "metadata": {},
   "outputs": [
    {
     "name": "stdout",
     "output_type": "stream",
     "text": [
      "tensor([2.5000, 0.1000])\n"
     ]
    }
   ],
   "source": [
    "# [ tensor ]\n",
    "\n",
    "x1 = torch.tensor([2.5, 0.1])\n",
    "print(x1)"
   ]
  },
  {
   "cell_type": "code",
   "execution_count": 9,
   "metadata": {},
   "outputs": [
    {
     "name": "stdout",
     "output_type": "stream",
     "text": [
      "tensor([[0.6630, 0.1679],\n",
      "        [0.5999, 0.1172]])\n",
      "tensor([[0.5374, 0.9454],\n",
      "        [0.3481, 0.5233]])\n",
      "tensor([[1.2004, 1.1133],\n",
      "        [0.9480, 0.6404]])\n",
      "tensor([[1.2004, 1.1133],\n",
      "        [0.9480, 0.6404]])\n",
      "tensor([[1.2004, 1.1133],\n",
      "        [0.9480, 0.6404]])\n",
      "tensor([[-0.5374, -0.9454],\n",
      "        [-0.3481, -0.5233]])\n",
      "tensor([[-0.5374, -0.9454],\n",
      "        [-0.3481, -0.5233]])\n",
      "tensor([[0.7958, 0.1869],\n",
      "        [0.5686, 0.0751]])\n",
      "tensor([[0.7958, 0.1869],\n",
      "        [0.5686, 0.0751]])\n",
      "tensor([[0.5523, 0.1508],\n",
      "        [0.6328, 0.1830]])\n",
      "tensor([[-0.5374, -0.9454],\n",
      "        [-0.3481, -0.5233]])\n"
     ]
    }
   ],
   "source": [
    "# torch calculation\n",
    "\n",
    "x1 = torch.rand(2,2)\n",
    "x2 = torch.rand(2,2)\n",
    "print(x1)\n",
    "print(x2)\n",
    "\n",
    "# addition\n",
    "add1 = torch.add(x1, x2)\n",
    "add2 = x1 + x2\n",
    "\n",
    "print(add1)\n",
    "print(add2)\n",
    "\n",
    "x2.add_(x1)   # replace x2 value\n",
    "print(x2)\n",
    "\n",
    "# subtraction\n",
    "sub1 = torch.sub(x1, x2)\n",
    "sub2 = x1 - x2\n",
    "\n",
    "print(sub1)\n",
    "print(sub2)\n",
    "\n",
    "# multiplication\n",
    "mul1 = torch.mul(x1, x2)\n",
    "mul2 = x1 * x2\n",
    "\n",
    "print(mul1)\n",
    "print(mul2)\n",
    "\n",
    "# division\n",
    "div1 = torch.div(x1, x2)\n",
    "div2 = x1 / x2\n",
    "\n",
    "print(div1)\n",
    "print(div2)\n",
    "\n"
   ]
  },
  {
   "cell_type": "code",
   "execution_count": 13,
   "metadata": {},
   "outputs": [
    {
     "name": "stdout",
     "output_type": "stream",
     "text": [
      "tensor([[0.7250, 0.6481, 0.5019],\n",
      "        [0.3171, 0.2513, 0.4138],\n",
      "        [0.5036, 0.2229, 0.3754],\n",
      "        [0.9871, 0.3828, 0.8025],\n",
      "        [0.7848, 0.0423, 0.6440]])\n",
      "tensor([0.7250, 0.3171, 0.5036, 0.9871, 0.7848])\n",
      "tensor([0.3171, 0.2513, 0.4138])\n",
      "tensor(0.2513)\n",
      "0.25125277042388916\n"
     ]
    }
   ],
   "source": [
    "# slice operation\n",
    "\n",
    "x1 = torch.rand(5,3)\n",
    "\n",
    "print(x1)\n",
    "print(x1[:, 0])         # all rows & [0] col\n",
    "print(x1[1, :])         # [1] row & all cols\n",
    "print(x1[1, 1])         # [1] row & [1] col\n",
    "print(x1[1, 1].item())  # only use it when one speific value exist => actual value"
   ]
  },
  {
   "cell_type": "code",
   "execution_count": 16,
   "metadata": {},
   "outputs": [
    {
     "name": "stdout",
     "output_type": "stream",
     "text": [
      "tensor([[0.7875, 0.5857, 0.2882, 0.3438],\n",
      "        [0.0326, 0.1579, 0.6327, 0.4467],\n",
      "        [0.7990, 0.5749, 0.4363, 0.3532],\n",
      "        [0.4569, 0.3001, 0.3310, 0.8338]])\n",
      "tensor([0.7875, 0.5857, 0.2882, 0.3438, 0.0326, 0.1579, 0.6327, 0.4467, 0.7990,\n",
      "        0.5749, 0.4363, 0.3532, 0.4569, 0.3001, 0.3310, 0.8338])\n",
      "torch.Size([16])\n",
      "tensor([[0.7875, 0.5857, 0.2882, 0.3438, 0.0326, 0.1579, 0.6327, 0.4467],\n",
      "        [0.7990, 0.5749, 0.4363, 0.3532, 0.4569, 0.3001, 0.3310, 0.8338]])\n",
      "torch.Size([2, 8])\n"
     ]
    }
   ],
   "source": [
    "# reshape\n",
    "\n",
    "x1 = torch.rand(4,4)\n",
    "print(x1)\n",
    "\n",
    "y1 = x1.view(16)      # one dimension 16 value\n",
    "print(y1)\n",
    "print(y1.size())\n",
    "\n",
    "y2 = x1.view(-1, 8)   # -1 들어간 값은 자동으로 x * 8 = 16해서 2로 설정됨\n",
    "print(y2)\n",
    "print(y2.size())"
   ]
  },
  {
   "cell_type": "code",
   "execution_count": 21,
   "metadata": {},
   "outputs": [
    {
     "name": "stdout",
     "output_type": "stream",
     "text": [
      "<class 'torch.Tensor'>\n",
      "<class 'numpy.ndarray'>\n",
      "tensor([2., 2., 2., 2., 2.])\n",
      "[2. 2. 2. 2. 2.]\n",
      "<class 'numpy.ndarray'>\n",
      "<class 'torch.Tensor'>\n"
     ]
    }
   ],
   "source": [
    "import torch\n",
    "import numpy as np\n",
    "\n",
    "# [ numpy to tensor ]\n",
    "a = torch.ones(5)\n",
    "print(type(a))\n",
    "\n",
    "b = a.numpy()          # change b type tensor to numpy\n",
    "print(type(b))\n",
    "\n",
    "# a와 b는 똑같은 메모리 주소를 가르키고 있음\n",
    "# a에서 값을 바꾸면 b의 값도 바뀌고\n",
    "# b에서 값을 바꾸면 a의 값도 바뀜\n",
    "a = a.add_(1)    # a의 값에 1씩 더하기\n",
    "\n",
    "print(a)         # a 결과 출력 \n",
    "print(b)         # b의 값은 바꾼 적이 없지만, a와 똑같은 메모리 주소를 공유하기 때문에 b의 값도 모두 2로 바뀌어 있음\n",
    "\n",
    "# [ tensor to numpy ]\n",
    "a = np.ones(5)\n",
    "print(type(a))\n",
    "\n",
    "b = torch.from_numpy(a)   # change b type numpy to tensor\n",
    "print(type(b))"
   ]
  },
  {
   "cell_type": "code",
   "execution_count": 22,
   "metadata": {},
   "outputs": [],
   "source": [
    "# cpu and gpu\n",
    "\n",
    "if torch.cuda.is_available():\n",
    "    device = torch.device(\"cuda\")\n",
    "    x = torch.ones(5, device=device)     # gpu에 올라감\n",
    "\n",
    "    y = torch.ones(5)\n",
    "    y = y.to(device)                     # 마찬가지로 gpu에 올라감\n",
    "\n",
    "    z = x + y                            # 연산은 gpu로 빠르게 연산됨\n",
    "\n",
    "    # z.numpy() gpu에 적재되었기 때문에 오류발생 (numpy는 cpu에서만 연산가능, tensor는 cpu와 gpu에서 모두 사용가능)\n",
    "    z = z.to(\"cpu\")                      # cpu로 z 로드\n"
   ]
  },
  {
   "cell_type": "code",
   "execution_count": null,
   "metadata": {},
   "outputs": [],
   "source": [
    "# requires grad\n",
    "\n",
    "x = torch.ones(5, requires_grad=True)   # requires_grad의 기본 값은 False\n",
    "print(x)"
   ]
  }
 ],
 "metadata": {
  "kernelspec": {
   "display_name": "pytorch",
   "language": "python",
   "name": "python3"
  },
  "language_info": {
   "codemirror_mode": {
    "name": "ipython",
    "version": 3
   },
   "file_extension": ".py",
   "mimetype": "text/x-python",
   "name": "python",
   "nbconvert_exporter": "python",
   "pygments_lexer": "ipython3",
   "version": "3.11.9"
  }
 },
 "nbformat": 4,
 "nbformat_minor": 2
}
