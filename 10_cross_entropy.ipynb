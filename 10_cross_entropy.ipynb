{
 "cells": [
  {
   "cell_type": "markdown",
   "metadata": {},
   "source": []
  },
  {
   "cell_type": "code",
   "execution_count": 1,
   "metadata": {},
   "outputs": [
    {
     "name": "stdout",
     "output_type": "stream",
     "text": [
      "LOSS1 numpy: 0.3567\n",
      "LOSS2 numpy: 2.3026\n"
     ]
    }
   ],
   "source": [
    "import torch\n",
    "import torch.nn as nn\n",
    "import numpy as np\n",
    "\n",
    "def cross_entropy(actual, predicted):\n",
    "    loss = -np.sum(actual * np.log(predicted))\n",
    "\n",
    "    return loss\n",
    "\n",
    "# y must be one hot encoded\n",
    "# if class 0: [1, 0, 0]\n",
    "# if class 1: [0, 1, 0]\n",
    "# if class 2: [0, 0, 1]\n",
    "Y = np.array([1,0,0])\n",
    "\n",
    "Y_pred_good = np.array([0.7, 0.2, 0.1])     # correctly predict class 0\n",
    "Y_pred_bad = np.array([0.1, 0.3, 0.6])      # badly predict class 0\n",
    "\n",
    "loss1 = cross_entropy(Y, Y_pred_good)\n",
    "loss2 = cross_entropy(Y, Y_pred_bad)\n",
    "\n",
    "print(f\"LOSS1 numpy: {loss1:.4f}\")\n",
    "print(f\"LOSS2 numpy: {loss2:.4f}\")"
   ]
  },
  {
   "cell_type": "markdown",
   "metadata": {},
   "source": [
    "CAREFUL!\n",
    "\n",
    "nn.CrossEntropyLoss applies\n",
    "nn.LogSoftmax + nn.NULLoss(negative log likelihood loss)\n",
    "\n",
    "-> No Softmax in last Layer!\n",
    "\n",
    "Y has class labels, not One-Hot\n",
    "Y_pred has raw scores (logits), no Softmax"
   ]
  },
  {
   "cell_type": "code",
   "execution_count": 8,
   "metadata": {},
   "outputs": [
    {
     "name": "stdout",
     "output_type": "stream",
     "text": [
      "LOSS 1= 0.4170299470424652\n",
      "LOSS 2= 1.840616226196289\n",
      "tensor([0])\n",
      "tensor([1])\n"
     ]
    }
   ],
   "source": [
    "# 1 sample\n",
    "\n",
    "import torch\n",
    "import torch.nn as nn\n",
    "import numpy as np\n",
    "\n",
    "loss = nn.CrossEntropyLoss()\n",
    "\n",
    "# 1 samples\n",
    "Y = torch.tensor([0])\n",
    "\n",
    "# n_samples x n_classes = 1x3\n",
    "Y_pred_good = torch.tensor([[2.0, 1.0, 0.1]])     # raw value\n",
    "Y_pred_bad = torch.tensor([[0.5, 2.0, 0.3]])\n",
    "\n",
    "loss1 = loss(Y_pred_good, Y)\n",
    "loss2 = loss(Y_pred_bad, Y)\n",
    "\n",
    "print(\"LOSS 1= {}\".format(loss1.item()))\n",
    "print(\"LOSS 2= {}\".format(loss2.item()))\n",
    "\n",
    "_, predictions1 = torch.max(Y_pred_good, 1)\n",
    "_, predictions2 = torch.max(Y_pred_bad, 1)\n",
    "\n",
    "print(predictions1)\n",
    "print(predictions2)"
   ]
  },
  {
   "cell_type": "code",
   "execution_count": 9,
   "metadata": {},
   "outputs": [
    {
     "name": "stdout",
     "output_type": "stream",
     "text": [
      "LOSS 1= 0.3018244206905365\n",
      "LOSS 2= 1.6241613626480103\n",
      "tensor([2, 0, 1])\n",
      "tensor([0, 2, 1])\n"
     ]
    }
   ],
   "source": [
    "# 3 samples\n",
    "\n",
    "import torch\n",
    "import torch.nn as nn\n",
    "import numpy as np\n",
    "\n",
    "loss = nn.CrossEntropyLoss()\n",
    "\n",
    "# 3 samples\n",
    "Y = torch.tensor([2,0,1])\n",
    "\n",
    "# n_samples x n_classes = 3x3\n",
    "Y_pred_good = torch.tensor([[0.1, 1.0, 2.1], [2.0, 1.0, 0.1], [0.1, 3.0, 0.1]])     # raw value\n",
    "Y_pred_bad = torch.tensor([[2.1, 1.0, 0.1], [0.1, 1.0, 2.1], [0.1, 3.0, 0.1]])\n",
    "\n",
    "loss1 = loss(Y_pred_good, Y)\n",
    "loss2 = loss(Y_pred_bad, Y)\n",
    "\n",
    "print(\"LOSS 1= {}\".format(loss1.item()))\n",
    "print(\"LOSS 2= {}\".format(loss2.item()))\n",
    "\n",
    "_, predictions1 = torch.max(Y_pred_good, 1)\n",
    "_, predictions2 = torch.max(Y_pred_bad, 1)\n",
    "\n",
    "print(predictions1)\n",
    "print(predictions2)"
   ]
  },
  {
   "cell_type": "markdown",
   "metadata": {},
   "source": [
    "in Pytorch:\n",
    "Use nn.CrossEntropyLoss()\n",
    "NO SOFTMAX at the end"
   ]
  }
 ],
 "metadata": {
  "kernelspec": {
   "display_name": "pytorch",
   "language": "python",
   "name": "python3"
  },
  "language_info": {
   "codemirror_mode": {
    "name": "ipython",
    "version": 3
   },
   "file_extension": ".py",
   "mimetype": "text/x-python",
   "name": "python",
   "nbconvert_exporter": "python",
   "pygments_lexer": "ipython3",
   "version": "3.11.9"
  }
 },
 "nbformat": 4,
 "nbformat_minor": 2
}
